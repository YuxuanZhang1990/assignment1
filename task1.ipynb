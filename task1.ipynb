{
 "cells": [
  {
   "cell_type": "code",
   "execution_count": 13,
   "metadata": {},
   "outputs": [
    {
     "name": "stdout",
     "output_type": "stream",
     "text": [
      "小朋友晚上好！我是2号客服，您想咨询订房业务吗？\n",
      "先生晚上好！我是5号客服，您想了解餐饮业务吗？\n",
      "女士早上好！我是2号客服，您想咨询订房业务吗？\n",
      "女士下午好！我是5号客服，您想打印订房业务吗？\n",
      "女士早上好！我是3号客服，您想打印餐饮业务吗？\n",
      "小朋友下午好！我是3号客服，您想打印娱乐活动吗？\n",
      "女士下午好！我是5号客服，您想了解订房业务吗？\n",
      "小朋友下午好！我是3号客服，您想咨询优惠折扣吗？\n",
      "先生下午好！我是5号客服，您想了解餐饮业务吗？\n",
      "先生晚上好！我是3号客服，您想了解订房业务吗？\n",
      "女士晚上好！我是1号客服，您想咨询优惠折扣吗？\n",
      "女士晚上好！我是5号客服，您想打印优惠折扣吗？\n",
      "先生下午好！我是5号客服，您想打印娱乐活动吗？\n",
      "先生下午好！我是3号客服，您想咨询优惠折扣吗？\n",
      "小朋友下午好！我是3号客服，您想了解娱乐活动吗？\n"
     ]
    }
   ],
   "source": [
    "import random\n",
    "\n",
    "def get_generation_by_gram(grammar_str: str, target, stmt_split='=', or_split='|'):\n",
    "    rules = dict()  # key is the @statement, value is @expression\n",
    "    for line in grammar_str.split('\\n'):\n",
    "        if not line: continue\n",
    "        # skip the empty line\n",
    "        #  print(line)\n",
    "        stmt, expr = line.split(stmt_split)\n",
    "        rules[stmt.strip()] = expr.split(or_split)\n",
    "    generated = generate(rules, target=target)\n",
    "    return generated\n",
    "\n",
    "\n",
    "customer_service_grammar = \"\"\"\n",
    "    cs => title say_hello 我是 Number 号客服，您想 verb content end\n",
    "    title => 女士 | 先生 | 小朋友\n",
    "    say_hello => 早上好！ | 下午好！ |晚上好！\n",
    "    Number => 1 | 2 |3 |5\n",
    "    verb =>  了解 | 打印 | 咨询\n",
    "    content =>  订房业务 | 餐饮业务 | 娱乐活动 |优惠折扣\n",
    "    end => 吗？\"\"\"\n",
    "\n",
    "\n",
    "def generate(grammar_rule, target):\n",
    "    if target in grammar_rule: \n",
    "        candidates = grammar_rule[target]  \n",
    "        candidate = random.choice(candidates)  \n",
    "        return ''.join(generate(grammar_rule, target=c.strip()) for c in candidate.split())\n",
    "    else:\n",
    "        return target\n",
    "\n",
    "\n",
    "get_generation_by_gram(customer_service_grammar, target='cs', stmt_split='=>')\n",
    "\n",
    "def generate_n(n):\n",
    "    for i in range(n):\n",
    "      print(get_generation_by_gram(customer_service_grammar, target='cs', stmt_split='=>'))\n",
    "    \n",
    "generate_n(15)\n"
   ]
  },
  {
   "cell_type": "code",
   "execution_count": null,
   "metadata": {},
   "outputs": [],
   "source": []
  },
  {
   "cell_type": "code",
   "execution_count": null,
   "metadata": {},
   "outputs": [],
   "source": []
  },
  {
   "cell_type": "code",
   "execution_count": null,
   "metadata": {},
   "outputs": [],
   "source": []
  },
  {
   "cell_type": "code",
   "execution_count": null,
   "metadata": {},
   "outputs": [],
   "source": []
  }
 ],
 "metadata": {
  "kernelspec": {
   "display_name": "Python 3",
   "language": "python",
   "name": "python3"
  },
  "language_info": {
   "codemirror_mode": {
    "name": "ipython",
    "version": 3
   },
   "file_extension": ".py",
   "mimetype": "text/x-python",
   "name": "python",
   "nbconvert_exporter": "python",
   "pygments_lexer": "ipython3",
   "version": "3.7.4"
  }
 },
 "nbformat": 4,
 "nbformat_minor": 2
}
