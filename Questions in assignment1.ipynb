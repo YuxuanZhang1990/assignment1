{
 "cells": [
  {
   "cell_type": "markdown",
   "metadata": {},
   "source": [
    "0. Can you come up out 3 sceneraies which use AI methods?\n",
    "Ans: Service Robot, Voice Recognition,Autopilot\n",
    "\n",
    "1. How do we use Github; Why do we use Jupyter and Pycharm;\n",
    "Ans: We can upload our codes into our Github space and review each other's codes conveniently.\n",
    "Jupyter is easy for us to edit our codes and test different code cells in the same pynb file.\n",
    "Pycharm contains all the python tool in one place. We can rely on it for intelligent code completion, on-the-fly error checking and quick-fixes, easy project navigation.\n",
    "\n",
    "2. What's the Probability Model?\n",
    "Ans: In sampling, a mathematical description of the dispersion or distribution of individuals in a population based on numbers per sample unit. Common models include Poisson, Negative-binomial, Binomial, Normal, and Neyman Type A. \n",
    "\n",
    "3. Can you came up with some sceneraies at which we could use Probability Model?\n",
    "Ans: Predicting,Recommendation System\n",
    "\n",
    "4. Why do we use probability and what's the difficult points for programming based on parsing and pattern match?\n",
    "Ans:Because by using probability we can find the best solution instead of the only correct one as we have enough big data already.\n",
    "The difficult point is the pattern is fixed and we have to program exactly the same as the pattern.\n",
    "\n",
    "5. What's the Language Model;\n",
    "Ans:A language model computes a probability for a sequence of words: p(w1,w2,w3...wn).The Language Model is to produce sentences by probability. By comparing the probabilities of different sentences, we can select the best one.\n",
    "\n",
    "6. Can you came up with some sceneraies at which we could use Language Model?\n",
    "Ans:Speech recognition,Machine translation,Part-of-speech tagging\n",
    "\n",
    "7. What's the 1-gram language model;\n",
    "Ans:Calculating the probability only based on 1-gram.\n",
    "\n",
    "8. What's the disadvantages and advantages of 1-gram language model;\n",
    "Ans:It requires huge calculating; The advantage is it is easy to cut sentences into 1-gram for probability calculation. \n",
    "\n",
    "9. What't the 2-gram models;\n",
    "Ans:We have an assumption for 2-gram model to calculate the probability of sentence:the n word is dependent on the n-1 word. "
   ]
  }
 ],
 "metadata": {
  "kernelspec": {
   "display_name": "Python 3",
   "language": "python",
   "name": "python3"
  },
  "language_info": {
   "codemirror_mode": {
    "name": "ipython",
    "version": 3
   },
   "file_extension": ".py",
   "mimetype": "text/x-python",
   "name": "python",
   "nbconvert_exporter": "python",
   "pygments_lexer": "ipython3",
   "version": "3.7.4"
  }
 },
 "nbformat": 4,
 "nbformat_minor": 2
}
